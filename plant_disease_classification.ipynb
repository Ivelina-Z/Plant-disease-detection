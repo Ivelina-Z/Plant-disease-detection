{
  "cells": [
    {
      "cell_type": "markdown",
      "metadata": {
        "id": "view-in-github",
        "colab_type": "text"
      },
      "source": [
        "<a href=\"https://colab.research.google.com/github/Ivelina-Z/Plant-disease-detection/blob/main/plant_disease_classification.ipynb\" target=\"_parent\"><img src=\"https://colab.research.google.com/assets/colab-badge.svg\" alt=\"Open In Colab\"/></a>"
      ]
    },
    {
      "cell_type": "code",
      "execution_count": null,
      "metadata": {
        "id": "yc1KohpUXe7P"
      },
      "outputs": [],
      "source": [
        "import tensorflow as tf"
      ]
    },
    {
      "cell_type": "code",
      "execution_count": null,
      "metadata": {
        "id": "nyB5d3f5o-Yi"
      },
      "outputs": [],
      "source": [
        "import os\n",
        "import numpy as np\n",
        "import matplotlib.pyplot as plt\n",
        "import datetime\n",
        "import random"
      ]
    },
    {
      "cell_type": "code",
      "execution_count": null,
      "metadata": {
        "colab": {
          "base_uri": "https://localhost:8080/"
        },
        "id": "CZ0tGK00oOyI",
        "outputId": "951962a8-df17-4a2a-bf70-a8493ddb5bfd"
      },
      "outputs": [
        {
          "output_type": "stream",
          "name": "stdout",
          "text": [
            "Mounted at /content/gdrive\n"
          ]
        }
      ],
      "source": [
        "from google.colab import drive\n",
        "drive.mount('/content/gdrive')"
      ]
    },
    {
      "cell_type": "markdown",
      "source": [
        "<h1 align=center> Tomato plants disease detection </h1>"
      ],
      "metadata": {
        "id": "ztpaPegh-xwZ"
      }
    },
    {
      "cell_type": "markdown",
      "source": [
        "The task of that project is to create a model, capable of detecting certain diseases of a tomato plants. The data provided consists of labeled images, including the classes below:\n",
        "\n",
        "*   Bacterial_spot\n",
        "*   Early_blight\n",
        "*   Late_blight\n",
        "*   Leaf_Mold\n",
        "*   Septoria_leaf_spot\n",
        "*   Spider_mites Two-spotted_spider_mite\n",
        "*   Target_Spot\n",
        "*   Tomato_Yellow_Leaf_Curl_Virus\n",
        "*   Tomato_mosaic_virus\n",
        "*   healthy\n",
        "\n",
        "To achieve the task a transfer learning with already trained model (ResNet 50) will be used."
      ],
      "metadata": {
        "id": "1WlqAxyx_ert"
      }
    },
    {
      "cell_type": "markdown",
      "source": [
        "## Custom functions"
      ],
      "metadata": {
        "id": "FnV-Cvi6-tHW"
      }
    },
    {
      "cell_type": "code",
      "source": [
        "def get_folder_paths(directory):\n",
        "  folder_names = sorted(os.listdir(directory))\n",
        "  folder_paths = sorted([os.path.join(directory, name) for name in folder_names])\n",
        "  return folder_names, folder_paths"
      ],
      "metadata": {
        "id": "lMrfdcbiBRYk"
      },
      "execution_count": null,
      "outputs": []
    },
    {
      "cell_type": "markdown",
      "metadata": {
        "id": "LgY9TimxYzJT"
      },
      "source": [
        "## Set TensorBoard"
      ]
    },
    {
      "cell_type": "code",
      "execution_count": null,
      "metadata": {
        "id": "0Bvqg1zcZw7Y"
      },
      "outputs": [],
      "source": [
        "%load_ext tensorboard"
      ]
    },
    {
      "cell_type": "code",
      "execution_count": null,
      "metadata": {
        "id": "dynL6B6QYyag"
      },
      "outputs": [],
      "source": [
        "logdir = \"logs/scalars/\" + datetime.datetime.now().strftime(\"%Y%m%d-%H%M%S\")\n",
        "file_writer = tf.summary.create_file_writer(logdir + \"/metrics\")\n",
        "file_writer.set_as_default()"
      ]
    },
    {
      "cell_type": "code",
      "execution_count": null,
      "metadata": {
        "id": "vpi0qa1kQYD_"
      },
      "outputs": [],
      "source": [
        "tf.random.set_seed(13)\n",
        "random.seed(13)"
      ]
    },
    {
      "cell_type": "markdown",
      "metadata": {
        "id": "L5CgG4z1pBK5"
      },
      "source": [
        "## Read files"
      ]
    },
    {
      "cell_type": "markdown",
      "source": [
        "The data is divided into two folders. The files in `image` folder are used for train, validation and evaluation of the model, after splitting the data. It consists of 4535 images, which are relatively equally distributed throught the classes. In `manual_testing` folder 5 images of each class are set aside for manual testing with augmentation of the images at the evaluation step.\n",
        "\n",
        "The structure of each folder is as follows:\n",
        "\n",
        "*   Image\n",
        "    *   Tomato___Bacterial_spot\n",
        "      *   Img_1\n",
        "      *   Img_2\n",
        "      *   Img_N\n",
        "    *   Tomato___Early_blight\n",
        "      *   Img_1\n",
        "      *   Img_2\n",
        "      *   Img_N\n",
        "    *   Tomato___Late_blight\n",
        "    *   Tomato___Leaf_Mold\n",
        "    *   Tomato___Septoria_leaf_spot\n",
        "    *   Tomato___Spider_mites Two-spotted_spider_mite\n",
        "    *   Tomato___Target_Spot\n",
        "    *   Tomato___Tomato_Yellow_Leaf_Curl_Virus\n",
        "    *   Tomato___Tomato_mosaic_virus\n",
        "    *   Tomato___healthy\n",
        "\n",
        "*   Manual_testing\n"
      ],
      "metadata": {
        "id": "stSPvlDj96sy"
      }
    },
    {
      "cell_type": "code",
      "execution_count": null,
      "metadata": {
        "id": "Op53lwsFomfl"
      },
      "outputs": [],
      "source": [
        "MAIN_DIR = '/content/gdrive/MyDrive/datasets/plant_disease_dataset/image'\n",
        "MANUAL_TEST_DIR = '/content/gdrive/MyDrive/datasets/plant_disease_dataset/manual_testing'"
      ]
    },
    {
      "cell_type": "code",
      "execution_count": null,
      "metadata": {
        "colab": {
          "base_uri": "https://localhost:8080/"
        },
        "id": "UhmW6SYZd4ug",
        "outputId": "f143cc08-de21-4c46-9683-1982ec387b77"
      },
      "outputs": [
        {
          "output_type": "execute_result",
          "data": {
            "text/plain": [
              "['/content/gdrive/MyDrive/datasets/plant_disease_dataset/image/Tomato___Bacterial_spot',\n",
              " '/content/gdrive/MyDrive/datasets/plant_disease_dataset/image/Tomato___Early_blight',\n",
              " '/content/gdrive/MyDrive/datasets/plant_disease_dataset/image/Tomato___Late_blight',\n",
              " '/content/gdrive/MyDrive/datasets/plant_disease_dataset/image/Tomato___Leaf_Mold',\n",
              " '/content/gdrive/MyDrive/datasets/plant_disease_dataset/image/Tomato___Septoria_leaf_spot',\n",
              " '/content/gdrive/MyDrive/datasets/plant_disease_dataset/image/Tomato___Spider_mites Two-spotted_spider_mite',\n",
              " '/content/gdrive/MyDrive/datasets/plant_disease_dataset/image/Tomato___Target_Spot',\n",
              " '/content/gdrive/MyDrive/datasets/plant_disease_dataset/image/Tomato___Tomato_Yellow_Leaf_Curl_Virus',\n",
              " '/content/gdrive/MyDrive/datasets/plant_disease_dataset/image/Tomato___Tomato_mosaic_virus',\n",
              " '/content/gdrive/MyDrive/datasets/plant_disease_dataset/image/Tomato___healthy']"
            ]
          },
          "metadata": {},
          "execution_count": 9
        }
      ],
      "source": [
        "folder_names, folder_paths = get_folder_paths(MAIN_DIR)\n",
        "folder_paths"
      ]
    },
    {
      "cell_type": "code",
      "execution_count": null,
      "metadata": {
        "colab": {
          "base_uri": "https://localhost:8080/"
        },
        "id": "Mhc6reTspV3t",
        "outputId": "febdcfb5-a8e0-49e3-ae03-3a60983bbb12"
      },
      "outputs": [
        {
          "output_type": "execute_result",
          "data": {
            "text/plain": [
              "{0: 'Bacterial_spot',\n",
              " 1: 'Early_blight',\n",
              " 2: 'Late_blight',\n",
              " 3: 'Leaf_Mold',\n",
              " 4: 'Septoria_leaf_spot',\n",
              " 5: 'Spider_mites Two-spotted_spider_mite',\n",
              " 6: 'Target_Spot',\n",
              " 7: 'Tomato_Yellow_Leaf_Curl_Virus',\n",
              " 8: 'Tomato_mosaic_virus',\n",
              " 9: 'healthy'}"
            ]
          },
          "metadata": {},
          "execution_count": 10
        }
      ],
      "source": [
        "class_names = {label: name.split('___')[-1] for label, name in enumerate(folder_names)}\n",
        "class_names"
      ]
    },
    {
      "cell_type": "code",
      "execution_count": null,
      "metadata": {
        "colab": {
          "base_uri": "https://localhost:8080/"
        },
        "id": "NtAHp2bY7xEW",
        "outputId": "f45ca784-5545-4730-84e5-7f13aa66ca0a"
      },
      "outputs": [
        {
          "output_type": "execute_result",
          "data": {
            "text/plain": [
              "4535"
            ]
          },
          "metadata": {},
          "execution_count": 11
        }
      ],
      "source": [
        "sum([len(os.listdir(p)) for p in folder_paths])"
      ]
    },
    {
      "cell_type": "code",
      "source": [
        "{p: len(os.listdir(p)) for p in folder_paths}"
      ],
      "metadata": {
        "colab": {
          "base_uri": "https://localhost:8080/"
        },
        "id": "b29w4IucEoG6",
        "outputId": "b94968b7-f3a0-4e59-8e4b-5b5f0d7a16f5"
      },
      "execution_count": null,
      "outputs": [
        {
          "output_type": "execute_result",
          "data": {
            "text/plain": [
              "{'/content/gdrive/MyDrive/datasets/plant_disease_dataset/image/Tomato___Bacterial_spot': 420,\n",
              " '/content/gdrive/MyDrive/datasets/plant_disease_dataset/image/Tomato___Early_blight': 475,\n",
              " '/content/gdrive/MyDrive/datasets/plant_disease_dataset/image/Tomato___Late_blight': 458,\n",
              " '/content/gdrive/MyDrive/datasets/plant_disease_dataset/image/Tomato___Leaf_Mold': 465,\n",
              " '/content/gdrive/MyDrive/datasets/plant_disease_dataset/image/Tomato___Septoria_leaf_spot': 431,\n",
              " '/content/gdrive/MyDrive/datasets/plant_disease_dataset/image/Tomato___Spider_mites Two-spotted_spider_mite': 430,\n",
              " '/content/gdrive/MyDrive/datasets/plant_disease_dataset/image/Tomato___Target_Spot': 452,\n",
              " '/content/gdrive/MyDrive/datasets/plant_disease_dataset/image/Tomato___Tomato_Yellow_Leaf_Curl_Virus': 485,\n",
              " '/content/gdrive/MyDrive/datasets/plant_disease_dataset/image/Tomato___Tomato_mosaic_virus': 443,\n",
              " '/content/gdrive/MyDrive/datasets/plant_disease_dataset/image/Tomato___healthy': 476}"
            ]
          },
          "metadata": {},
          "execution_count": 12
        }
      ]
    },
    {
      "cell_type": "markdown",
      "source": [
        "## Train, test, validation split"
      ],
      "metadata": {
        "id": "DCEZQt0rUCmE"
      }
    },
    {
      "cell_type": "markdown",
      "source": [
        "The data in `image` folder is splitted to train, test and validation datasets.\n",
        "10% of the data is set aside for model testing. The other 90% are used in the training step, 80% - for train data and 10% for validation. \n",
        "The resulting datasets are stratified by the labels. "
      ],
      "metadata": {
        "id": "YDPU5eDcUK0i"
      }
    },
    {
      "cell_type": "code",
      "execution_count": null,
      "metadata": {
        "id": "4K3EOlc44feY"
      },
      "outputs": [],
      "source": [
        "files_train = []\n",
        "classes_train = []\n",
        "files_test = []\n",
        "classes_test = []\n",
        "files_val = []\n",
        "classes_val = []"
      ]
    },
    {
      "cell_type": "code",
      "execution_count": null,
      "metadata": {
        "id": "tKfFZB8xlm8t"
      },
      "outputs": [],
      "source": [
        "for label, folder_path in enumerate(folder_paths): \n",
        "  image_names = os.listdir(folder_path)\n",
        "  image_path = [os.path.join(folder_paths[label], name) for name in image_names]\n",
        "  \n",
        "  test_size = int(len(image_names) * 0.1)\n",
        "  validation_size = int(len(image_names) * 0.1)\n",
        "  train_size = len(image_names) - test_size - validation_size\n",
        "\n",
        "  files_test.extend(image_path[:test_size])\n",
        "  classes_test.extend([label] * test_size)\n",
        "\n",
        "  files_val.extend(image_path[test_size:(test_size + validation_size)])\n",
        "  classes_val.extend([label] * validation_size)\n",
        "\n",
        "  files_train.extend(image_path[test_size + validation_size:])\n",
        "  classes_train.extend([label] * train_size)"
      ]
    },
    {
      "cell_type": "code",
      "execution_count": null,
      "metadata": {
        "id": "ytlwTMad9ztR"
      },
      "outputs": [],
      "source": [
        "assert len(files_train) == len(classes_train)\n",
        "assert len(files_test) == len(classes_test)\n",
        "assert len(files_val) == len(classes_val)\n",
        "assert(not set(classes_train).difference(set(class_names.keys())))\n",
        "assert(not set(classes_test).difference(set(class_names.keys())))\n",
        "assert(not set(classes_val).difference(set(class_names.keys())))"
      ]
    }
  ],
  "metadata": {
    "accelerator": "GPU",
    "colab": {
      "provenance": [],
      "authorship_tag": "ABX9TyOvFoc+0h5xppeBvYslILny",
      "include_colab_link": true
    },
    "gpuClass": "standard",
    "kernelspec": {
      "display_name": "Python 3",
      "name": "python3"
    },
    "language_info": {
      "name": "python"
    }
  },
  "nbformat": 4,
  "nbformat_minor": 0
}